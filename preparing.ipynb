{
 "cells": [
  {
   "cell_type": "code",
   "execution_count": 1,
   "metadata": {},
   "outputs": [],
   "source": [
    "import pandas as pd\n",
    "import numpy as np"
   ]
  },
  {
   "cell_type": "code",
   "execution_count": 2,
   "metadata": {},
   "outputs": [],
   "source": [
    "train = pd.read_csv('mlboot_dataset/mlboot_train_answers.tsv.gz', delimiter='\\t', compression='gzip', index_col=0)\n",
    "test = pd.read_csv('mlboot_dataset/mlboot_test.tsv.gz', delimiter='\\t', compression='gzip')"
   ]
  },
  {
   "cell_type": "code",
   "execution_count": 3,
   "metadata": {},
   "outputs": [
    {
     "data": {
      "text/plain": [
       "0    406542\n",
       "1     21452\n",
       "Name: target, dtype: int64"
      ]
     },
     "execution_count": 3,
     "metadata": {},
     "output_type": "execute_result"
    }
   ],
   "source": [
    "train.target.value_counts()"
   ]
  },
  {
   "cell_type": "code",
   "execution_count": 4,
   "metadata": {},
   "outputs": [],
   "source": [
    "df = pd.read_csv('mlboot_dataset/mlboot_data.tsv.gz', delimiter='\\t', compression='gzip', header=None, \n",
    "                      names=['cuid', 'cat_feature', 'counter1', 'counter2', 'counter3', 'dt_diff'])"
   ]
  },
  {
   "cell_type": "code",
   "execution_count": 5,
   "metadata": {},
   "outputs": [
    {
     "data": {
      "text/html": [
       "<div>\n",
       "<style scoped>\n",
       "    .dataframe tbody tr th:only-of-type {\n",
       "        vertical-align: middle;\n",
       "    }\n",
       "\n",
       "    .dataframe tbody tr th {\n",
       "        vertical-align: top;\n",
       "    }\n",
       "\n",
       "    .dataframe thead th {\n",
       "        text-align: right;\n",
       "    }\n",
       "</style>\n",
       "<table border=\"1\" class=\"dataframe\">\n",
       "  <thead>\n",
       "    <tr style=\"text-align: right;\">\n",
       "      <th></th>\n",
       "      <th>cuid</th>\n",
       "      <th>cat_feature</th>\n",
       "      <th>counter1</th>\n",
       "      <th>counter2</th>\n",
       "      <th>counter3</th>\n",
       "      <th>dt_diff</th>\n",
       "    </tr>\n",
       "  </thead>\n",
       "  <tbody>\n",
       "    <tr>\n",
       "      <th>0</th>\n",
       "      <td>00000d2994b6df9239901389031acaac</td>\n",
       "      <td>5</td>\n",
       "      <td>{\"809001\":2,\"848545\":2,\"565828\":1,\"490363\":1}</td>\n",
       "      <td>{\"85789\":1,\"238490\":1,\"32285\":1,\"103987\":1,\"16...</td>\n",
       "      <td>{}</td>\n",
       "      <td>39</td>\n",
       "    </tr>\n",
       "    <tr>\n",
       "      <th>1</th>\n",
       "      <td>00000d2994b6df9239901389031acaac</td>\n",
       "      <td>5</td>\n",
       "      <td>{\"809001\":2,\"1160689\":1,\"14018\":1,\"843995\":1,\"...</td>\n",
       "      <td>{\"9629\":1,\"894555\":1,\"2812609\":1,\"15310\":1,\"48...</td>\n",
       "      <td>{}</td>\n",
       "      <td>43</td>\n",
       "    </tr>\n",
       "    <tr>\n",
       "      <th>2</th>\n",
       "      <td>00000d2994b6df9239901389031acaac</td>\n",
       "      <td>5</td>\n",
       "      <td>{\"536657\":1,\"1723154\":1,\"948501\":1,\"1159583\":1...</td>\n",
       "      <td>{\"129137\":1,\"14056\":1,\"9763\":1,\"44215\":1,\"3671...</td>\n",
       "      <td>{}</td>\n",
       "      <td>45</td>\n",
       "    </tr>\n",
       "    <tr>\n",
       "      <th>3</th>\n",
       "      <td>00000d2994b6df9239901389031acaac</td>\n",
       "      <td>5</td>\n",
       "      <td>{\"1676126\":1,\"1321640\":1,\"1198\":1,\"809001\":2,\"...</td>\n",
       "      <td>{\"153774\":1,\"2127\":1,\"158967\":1}</td>\n",
       "      <td>{}</td>\n",
       "      <td>46</td>\n",
       "    </tr>\n",
       "    <tr>\n",
       "      <th>4</th>\n",
       "      <td>00000d2994b6df9239901389031acaac</td>\n",
       "      <td>5</td>\n",
       "      <td>{\"1125045\":2,\"1596919\":1,\"1857574\":1,\"282284\":...</td>\n",
       "      <td>{\"2979\":1,\"30581\":1,\"7296\":1,\"127256\":1,\"18803...</td>\n",
       "      <td>{}</td>\n",
       "      <td>48</td>\n",
       "    </tr>\n",
       "  </tbody>\n",
       "</table>\n",
       "</div>"
      ],
      "text/plain": [
       "                               cuid  cat_feature  \\\n",
       "0  00000d2994b6df9239901389031acaac            5   \n",
       "1  00000d2994b6df9239901389031acaac            5   \n",
       "2  00000d2994b6df9239901389031acaac            5   \n",
       "3  00000d2994b6df9239901389031acaac            5   \n",
       "4  00000d2994b6df9239901389031acaac            5   \n",
       "\n",
       "                                            counter1  \\\n",
       "0      {\"809001\":2,\"848545\":2,\"565828\":1,\"490363\":1}   \n",
       "1  {\"809001\":2,\"1160689\":1,\"14018\":1,\"843995\":1,\"...   \n",
       "2  {\"536657\":1,\"1723154\":1,\"948501\":1,\"1159583\":1...   \n",
       "3  {\"1676126\":1,\"1321640\":1,\"1198\":1,\"809001\":2,\"...   \n",
       "4  {\"1125045\":2,\"1596919\":1,\"1857574\":1,\"282284\":...   \n",
       "\n",
       "                                            counter2 counter3  dt_diff  \n",
       "0  {\"85789\":1,\"238490\":1,\"32285\":1,\"103987\":1,\"16...       {}       39  \n",
       "1  {\"9629\":1,\"894555\":1,\"2812609\":1,\"15310\":1,\"48...       {}       43  \n",
       "2  {\"129137\":1,\"14056\":1,\"9763\":1,\"44215\":1,\"3671...       {}       45  \n",
       "3                   {\"153774\":1,\"2127\":1,\"158967\":1}       {}       46  \n",
       "4  {\"2979\":1,\"30581\":1,\"7296\":1,\"127256\":1,\"18803...       {}       48  "
      ]
     },
     "execution_count": 5,
     "metadata": {},
     "output_type": "execute_result"
    }
   ],
   "source": [
    "df.head()"
   ]
  },
  {
   "cell_type": "code",
   "execution_count": 6,
   "metadata": {},
   "outputs": [],
   "source": [
    "import json\n",
    "import itertools\n"
   ]
  },
  {
   "cell_type": "code",
   "execution_count": 7,
   "metadata": {},
   "outputs": [],
   "source": [
    "from typing import Dict, List, Iterable, Tuple\n",
    "def dict_to_dense(dict_row: str) -> List[int]:\n",
    "    s = []\n",
    "    for k,v in json.loads(dict_row).items():\n",
    "        s.extend(itertools.repeat(int(k), v))\n",
    "    return s"
   ]
  },
  {
   "cell_type": "code",
   "execution_count": 8,
   "metadata": {},
   "outputs": [],
   "source": [
    "def extract_from_row(row: pd.Series) -> Tuple[str, str, str]:\n",
    "# def extract_from_row(row: pd.Series):\n",
    "\n",
    "    category = str(row.cat_feature)\n",
    "    day = str(row.dt_diff)\n",
    "    \n",
    "    feat1 = dict_to_dense(row.counter1)\n",
    "    feat2 = dict_to_dense(row.counter2)\n",
    "    feat3 = dict_to_dense(row.counter3)\n",
    "    counter = list(itertools.chain(feat1, feat2, feat3))\n",
    "    cc = ' '.join(str(v) for v in counter)\n",
    "    return cc, day, category"
   ]
  },
  {
   "cell_type": "code",
   "execution_count": 103,
   "metadata": {},
   "outputs": [],
   "source": [
    "test_dataset = dataset.head(100)"
   ]
  },
  {
   "cell_type": "markdown",
   "metadata": {},
   "source": [
    "### Основная идея: \"Развернуть\" данные в плоский вид, чтобы можно было на основе этих данных составить sparse-матрицы фич"
   ]
  },
  {
   "cell_type": "code",
   "execution_count": 9,
   "metadata": {},
   "outputs": [],
   "source": [
    "from tqdm import tqdm"
   ]
  },
  {
   "cell_type": "code",
   "execution_count": 13,
   "metadata": {},
   "outputs": [],
   "source": [
    "output_train = 'sparse/train_counter.csv'\n",
    "output_train_cat = 'sparse/train_cat.csv'\n",
    "output_train_day = 'sparse/train_day.csv'\n",
    "output_train_cuid = 'sparse/train_cuid.csv'\n",
    "output_train_labels = 'sparse/train_labels.csv'\n",
    "\n",
    "output_test = 'sparse/test_counter.csv'\n",
    "output_test_cat = 'sparse/test_cat.csv'\n",
    "output_test_day = 'sparse/test_day.csv'\n",
    "output_test_cuid = 'sparse/test_cuid.csv'"
   ]
  },
  {
   "cell_type": "code",
   "execution_count": 11,
   "metadata": {},
   "outputs": [
    {
     "data": {
      "text/plain": [
       "19528597"
      ]
     },
     "execution_count": 11,
     "metadata": {},
     "output_type": "execute_result"
    }
   ],
   "source": [
    "df.shape[0]"
   ]
  },
  {
   "cell_type": "code",
   "execution_count": 14,
   "metadata": {},
   "outputs": [
    {
     "name": "stderr",
     "output_type": "stream",
     "text": [
      "100%|██████████| 19528597/19528597 [1:07:27<00:00, 4824.54it/s]\n"
     ]
    }
   ],
   "source": [
    "prev_cuid = ''\n",
    "prev_cuid_in_train = None\n",
    "\n",
    "with open(output_train, 'w') as dataset, \\\n",
    "    open(output_train_cat, 'w') as dataset_cat, \\\n",
    "    open(output_train_day, 'w') as dataset_day, \\\n",
    "    open(output_train_cuid, 'w') as dataset_cuid, \\\n",
    "    open(output_train_labels, 'w') as dataset_labels, \\\n",
    "    open(output_test, 'w') as test, \\\n",
    "    open(output_test_cat, 'w') as test_cat, \\\n",
    "    open(output_test_day, 'w') as test_day, \\\n",
    "    open(output_test_cuid, 'w') as test_cuid:\n",
    "\n",
    "    for index, row in tqdm(df.iterrows(), total=df.shape[0]):\n",
    "        cuid = row[\"cuid\"]\n",
    "        \n",
    "        counter, day, cat_featrue = extract_from_row(row)\n",
    "        \n",
    "        if cuid != prev_cuid:\n",
    "            \n",
    "            if prev_cuid_in_train:\n",
    "                dataset.write(counter_full + '\\n')\n",
    "                dataset_cat.write(cat_full + '\\n')\n",
    "                dataset_day.write(day_full + '\\n')\n",
    "                dataset_labels.write(str(label) + '\\n')\n",
    "            elif prev_cuid_in_train is not None:\n",
    "                test.write(counter_full + '\\n')\n",
    "                test_cat.write(cat_full + '\\n')\n",
    "                test_day.write(day_full + '\\n')\n",
    "            \n",
    "            cat_full = cat_feature\n",
    "            counter_full = counter\n",
    "            dayn_full = day\n",
    "            \n",
    "            cuid_in_train = cuid in train.index\n",
    "            if cuid_in_train:\n",
    "                label = train['target'][cuid]\n",
    "                dataset_cuid.write(f'{cuid}\\n')\n",
    "            else:\n",
    "                test_cuid.write(f'{cuid}\\n')\n",
    "            \n",
    "            prev_cuid = cuid\n",
    "            prev_cuid_in_train = cuid_in_train\n",
    "        else:\n",
    "            cat_full += ' ' + cat_feature\n",
    "            counter_full += ' ' + counter\n",
    "            day_full += ' ' + day\n",
    "    \n",
    "    # Записать последнюю строку в файл\n",
    "    if prev_cuid_in_train:\n",
    "        dataset.write(counter_full + '\\n')\n",
    "        dataset_cat.write(cat_full + '\\n')\n",
    "        dataset_day.write(day_full + '\\n')\n",
    "        dataset_labels.write(str(label) + '\\n')\n",
    "    else:\n",
    "        test.write(counter_full + '\\n')\n",
    "        test_cat.write(cat_full + '\\n')\n",
    "        test_day.write(day_full + '\\n')\n",
    "    \n",
    "    # Последний cuid\n",
    "    if cuid in train.index:\n",
    "        dataset_cuid.write(f'{cuid}\\n')\n",
    "    else:\n",
    "        test_cuid.write(f'{cuid}\\n')\n",
    "    "
   ]
  },
  {
   "cell_type": "markdown",
   "metadata": {},
   "source": [
    "### Создадим теперь sparse матрицы на основе этих датасетов"
   ]
  },
  {
   "cell_type": "code",
   "execution_count": 23,
   "metadata": {},
   "outputs": [],
   "source": [
    "import gc\n",
    "from sklearn.feature_extraction.text import TfidfVectorizer, CountVectorizer\n",
    "from scipy import sparse\n"
   ]
  },
  {
   "cell_type": "markdown",
   "metadata": {},
   "source": [
    "#### В данном соревновании вполне можно использовать TF-IDF для каунтеров, и каунтвекторайзер для остальных фичей"
   ]
  },
  {
   "cell_type": "markdown",
   "metadata": {},
   "source": [
    "### Counters features"
   ]
  },
  {
   "cell_type": "code",
   "execution_count": 24,
   "metadata": {},
   "outputs": [],
   "source": [
    "tf_idf = TfidfVectorizer(min_df=3, max_df=0.4, sublinear_tf=True)"
   ]
  },
  {
   "cell_type": "code",
   "execution_count": 38,
   "metadata": {},
   "outputs": [],
   "source": [
    "train_counter = pd.read_csv(\"sparse/train_counter.csv\", names=[\"counters\"])"
   ]
  },
  {
   "cell_type": "code",
   "execution_count": 39,
   "metadata": {},
   "outputs": [
    {
     "data": {
      "text/html": [
       "<div>\n",
       "<style scoped>\n",
       "    .dataframe tbody tr th:only-of-type {\n",
       "        vertical-align: middle;\n",
       "    }\n",
       "\n",
       "    .dataframe tbody tr th {\n",
       "        vertical-align: top;\n",
       "    }\n",
       "\n",
       "    .dataframe thead th {\n",
       "        text-align: right;\n",
       "    }\n",
       "</style>\n",
       "<table border=\"1\" class=\"dataframe\">\n",
       "  <thead>\n",
       "    <tr style=\"text-align: right;\">\n",
       "      <th></th>\n",
       "      <th>counters</th>\n",
       "    </tr>\n",
       "  </thead>\n",
       "  <tbody>\n",
       "    <tr>\n",
       "      <th>0</th>\n",
       "      <td>809001 809001 848545 848545 565828 490363 8578...</td>\n",
       "    </tr>\n",
       "    <tr>\n",
       "      <th>1</th>\n",
       "      <td>809001 809001 1171980 1166289 618566 809001 80...</td>\n",
       "    </tr>\n",
       "    <tr>\n",
       "      <th>2</th>\n",
       "      <td>581893 581893 834560 345885 16744 6366 42224 1...</td>\n",
       "    </tr>\n",
       "    <tr>\n",
       "      <th>3</th>\n",
       "      <td>1714680 1961140 1153101 176510 4816 93716 2268...</td>\n",
       "    </tr>\n",
       "    <tr>\n",
       "      <th>4</th>\n",
       "      <td>990342 389051 1202056 834293 47006 724959 1283...</td>\n",
       "    </tr>\n",
       "  </tbody>\n",
       "</table>\n",
       "</div>"
      ],
      "text/plain": [
       "                                            counters\n",
       "0  809001 809001 848545 848545 565828 490363 8578...\n",
       "1  809001 809001 1171980 1166289 618566 809001 80...\n",
       "2  581893 581893 834560 345885 16744 6366 42224 1...\n",
       "3  1714680 1961140 1153101 176510 4816 93716 2268...\n",
       "4  990342 389051 1202056 834293 47006 724959 1283..."
      ]
     },
     "execution_count": 39,
     "metadata": {},
     "output_type": "execute_result"
    }
   ],
   "source": [
    "train_counter.head()"
   ]
  },
  {
   "cell_type": "code",
   "execution_count": 40,
   "metadata": {},
   "outputs": [
    {
     "name": "stdout",
     "output_type": "stream",
     "text": [
      "CPU times: user 12min 56s, sys: 17.3 s, total: 13min 14s\n",
      "Wall time: 13min 11s\n"
     ]
    }
   ],
   "source": [
    "%%time\n",
    "counter_matrix = tf_idf.fit_transform(train_counter.counters)"
   ]
  },
  {
   "cell_type": "code",
   "execution_count": 41,
   "metadata": {},
   "outputs": [],
   "source": [
    "sparse.save_npz('sparse/sparse_counter.npz', counter_matrix)"
   ]
  },
  {
   "cell_type": "code",
   "execution_count": 42,
   "metadata": {},
   "outputs": [],
   "source": [
    "test_counter = pd.read_csv(\"sparse/test_counter.csv\", names=[\"counters\"])"
   ]
  },
  {
   "cell_type": "code",
   "execution_count": 69,
   "metadata": {},
   "outputs": [],
   "source": [
    "counter_matrix = tf_idf.transform(test_counter.counters)"
   ]
  },
  {
   "cell_type": "code",
   "execution_count": 70,
   "metadata": {},
   "outputs": [],
   "source": [
    "sparse.save_npz('sparse/test_sparse_counter.npz', counter_matrix)"
   ]
  },
  {
   "cell_type": "markdown",
   "metadata": {},
   "source": [
    "### Categorical features"
   ]
  },
  {
   "cell_type": "code",
   "execution_count": 49,
   "metadata": {},
   "outputs": [],
   "source": [
    "count_vect = CountVectorizer(analyzer='char')"
   ]
  },
  {
   "cell_type": "code",
   "execution_count": 51,
   "metadata": {},
   "outputs": [],
   "source": [
    "train_categorical = pd.read_csv(\"sparse/train_cat.csv\", names=['category'])"
   ]
  },
  {
   "cell_type": "code",
   "execution_count": 53,
   "metadata": {},
   "outputs": [],
   "source": [
    "category_matrix = count_vect.fit_transform(train_categorical.category)"
   ]
  },
  {
   "cell_type": "code",
   "execution_count": 54,
   "metadata": {},
   "outputs": [],
   "source": [
    "sparse.save_npz('sparse/sparse_category.npz', category_matrix)"
   ]
  },
  {
   "cell_type": "code",
   "execution_count": 55,
   "metadata": {},
   "outputs": [],
   "source": [
    "test_categorical = pd.read_csv(\"sparse/test_cat.csv\", names=['category'])"
   ]
  },
  {
   "cell_type": "code",
   "execution_count": 57,
   "metadata": {},
   "outputs": [],
   "source": [
    "category_matrix = count_vect.transform(test_categorical.category)"
   ]
  },
  {
   "cell_type": "code",
   "execution_count": 58,
   "metadata": {},
   "outputs": [],
   "source": [
    "sparse.save_npz('sparse/test_sparse_category.npz', category_matrix)"
   ]
  },
  {
   "cell_type": "markdown",
   "metadata": {},
   "source": [
    "### days_diff features"
   ]
  },
  {
   "cell_type": "code",
   "execution_count": 60,
   "metadata": {},
   "outputs": [],
   "source": [
    "train_day = pd.read_csv(\"sparse/train_day.csv\", names=['days'])"
   ]
  },
  {
   "cell_type": "code",
   "execution_count": 62,
   "metadata": {},
   "outputs": [],
   "source": [
    "count_vect = CountVectorizer()"
   ]
  },
  {
   "cell_type": "code",
   "execution_count": 63,
   "metadata": {},
   "outputs": [],
   "source": [
    "day_matrix = count_vect.fit_transform(train_day.days)\n",
    "sparse.save_npz('sparse/sparse_days.npz', day_matrix)\n",
    "del day_matrix\n",
    "gc.collect()\n",
    "test_day = pd.read_csv(\"sparse/test_day.csv\", names=['days'])\n",
    "\n",
    "day_matrix = count_vect.transform(test_day.days)\n",
    "sparse.save_npz('sparse/test_sparse_days.npz', day_matrix)"
   ]
  },
  {
   "cell_type": "markdown",
   "metadata": {},
   "source": [
    "## Concat all sparse"
   ]
  },
  {
   "cell_type": "code",
   "execution_count": 65,
   "metadata": {},
   "outputs": [],
   "source": [
    "day_matrix = sparse.load_npz(\"sparse/sparse_days.npz\")\n",
    "category_matrix = sparse.load_npz(\"sparse/sparse_category.npz\")\n",
    "counter_matrix = sparse.load_npz(\"sparse/sparse_counter.npz\")"
   ]
  },
  {
   "cell_type": "code",
   "execution_count": 66,
   "metadata": {},
   "outputs": [],
   "source": [
    "train_matrix = sparse.hstack([day_matrix, category_matrix, counter_matrix])\n",
    "sparse.save_npz('sparse/train_matrix.npz', train_matrix)"
   ]
  },
  {
   "cell_type": "code",
   "execution_count": 71,
   "metadata": {},
   "outputs": [],
   "source": [
    "day_matrix = sparse.load_npz(\"sparse/test_sparse_days.npz\")\n",
    "category_matrix = sparse.load_npz(\"sparse/test_sparse_category.npz\")\n",
    "counter_matrix = sparse.load_npz(\"sparse/test_sparse_counter.npz\")"
   ]
  },
  {
   "cell_type": "code",
   "execution_count": 72,
   "metadata": {},
   "outputs": [],
   "source": [
    "test_matrix = sparse.hstack([day_matrix, category_matrix, counter_matrix])\n",
    "sparse.save_npz('sparse/test_matrix.npz', test_matrix)"
   ]
  },
  {
   "cell_type": "code",
   "execution_count": null,
   "metadata": {},
   "outputs": [],
   "source": []
  }
 ],
 "metadata": {
  "kernelspec": {
   "display_name": "Python 3",
   "language": "python",
   "name": "python3"
  },
  "language_info": {
   "codemirror_mode": {
    "name": "ipython",
    "version": 3
   },
   "file_extension": ".py",
   "mimetype": "text/x-python",
   "name": "python",
   "nbconvert_exporter": "python",
   "pygments_lexer": "ipython3",
   "version": "3.6.5"
  }
 },
 "nbformat": 4,
 "nbformat_minor": 2
}
