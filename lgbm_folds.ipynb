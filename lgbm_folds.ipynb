{
 "cells": [
  {
   "cell_type": "code",
   "execution_count": 2,
   "metadata": {},
   "outputs": [],
   "source": [
    "import pandas as pd\n",
    "import numpy as np\n",
    "\n",
    "from scipy import sparse\n",
    "from sklearn.metrics import roc_auc_score\n",
    "from sklearn.model_selection import cross_val_score, StratifiedKFold\n",
    "from sklearn.preprocessing import LabelEncoder\n",
    "\n",
    "import lightgbm as lgb"
   ]
  },
  {
   "cell_type": "code",
   "execution_count": 3,
   "metadata": {},
   "outputs": [],
   "source": [
    "import warnings\n",
    "\n",
    "warnings.filterwarnings('ignore')"
   ]
  },
  {
   "cell_type": "code",
   "execution_count": 4,
   "metadata": {},
   "outputs": [],
   "source": [
    "import joblib"
   ]
  },
  {
   "cell_type": "code",
   "execution_count": 7,
   "metadata": {},
   "outputs": [],
   "source": [
    "X_train = sparse.load_npz('../sparse/train_matrix.npz')\n",
    "y_train = pd.read_csv('../sparse/train_labels.csv', names=['label'])\n",
    "\n",
    "X_test = sparse.load_npz('../sparse/test_matrix.npz')"
   ]
  },
  {
   "cell_type": "markdown",
   "metadata": {},
   "source": [
    "### Вперед, тяжелая артилерия"
   ]
  },
  {
   "cell_type": "markdown",
   "metadata": {},
   "source": [
    "Обучим на 5 стратифицированных фолдах LGBMClassifier, на лидерборд зашлем усредненное предсказание по пяти фолдам, а также оценим OOF-предсказания"
   ]
  },
  {
   "cell_type": "code",
   "execution_count": 30,
   "metadata": {},
   "outputs": [],
   "source": [
    "folds = StratifiedKFold(n_splits=5, shuffle=True, random_state=42)\n",
    "folds_idx = [\n",
    "    (train_idx, val_idx) \n",
    "    for train_idx, val_idx in folds.split(X_train, y=y_train['label'])\n",
    "]"
   ]
  },
  {
   "cell_type": "code",
   "execution_count": 5,
   "metadata": {},
   "outputs": [],
   "source": [
    "def get_model():\n",
    "    return lgb.LGBMClassifier(n_jobs=-1, **params)"
   ]
  },
  {
   "cell_type": "code",
   "execution_count": 28,
   "metadata": {},
   "outputs": [],
   "source": [
    "params = {'subsample_freq': 2,\n",
    "          'subsample_for_bin': 100, \n",
    "          'subsample': 0.7, \n",
    "          'scale_pos_weight': 1, \n",
    "          'reg_lambda': 0.2, \n",
    "          'reg_alpha': 7, \n",
    "          'objective': 'binary', \n",
    "          'num_leaves': 50, \n",
    "          'min_split_gain': 2.0, \n",
    "          'min_child_weight': 3,\n",
    "          'min_child_samples': 100, \n",
    "          'metric': 'auc', \n",
    "          'max_depth': 20, \n",
    "          'max_bin': 100, \n",
    "          'learning_rate': 0.07, \n",
    "          'seed': 44,\n",
    "          'colsample_bytree': 0.7}"
   ]
  },
  {
   "cell_type": "code",
   "execution_count": 31,
   "metadata": {
    "scrolled": true
   },
   "outputs": [
    {
     "name": "stdout",
     "output_type": "stream",
     "text": [
      "Training until validation scores don't improve for 150 rounds.\n",
      "[10]\tvalid_0's auc: 0.672776\tvalid_1's auc: 0.650973\n",
      "[20]\tvalid_0's auc: 0.68916\tvalid_1's auc: 0.660458\n",
      "[30]\tvalid_0's auc: 0.701482\tvalid_1's auc: 0.665654\n",
      "[40]\tvalid_0's auc: 0.710494\tvalid_1's auc: 0.669977\n",
      "[50]\tvalid_0's auc: 0.718215\tvalid_1's auc: 0.673379\n",
      "[60]\tvalid_0's auc: 0.725417\tvalid_1's auc: 0.676089\n",
      "[70]\tvalid_0's auc: 0.731621\tvalid_1's auc: 0.677882\n",
      "[80]\tvalid_0's auc: 0.737099\tvalid_1's auc: 0.678979\n",
      "[90]\tvalid_0's auc: 0.743027\tvalid_1's auc: 0.679686\n",
      "[100]\tvalid_0's auc: 0.748059\tvalid_1's auc: 0.68083\n",
      "Did not meet early stopping. Best iteration is:\n",
      "[100]\tvalid_0's auc: 0.748059\tvalid_1's auc: 0.68083\n",
      "Fold  1 AUC : 0.680830\n",
      "Training until validation scores don't improve for 150 rounds.\n",
      "[10]\tvalid_0's auc: 0.67636\tvalid_1's auc: 0.648564\n",
      "[20]\tvalid_0's auc: 0.689198\tvalid_1's auc: 0.657616\n",
      "[30]\tvalid_0's auc: 0.700561\tvalid_1's auc: 0.66384\n",
      "[40]\tvalid_0's auc: 0.70925\tvalid_1's auc: 0.667733\n",
      "[50]\tvalid_0's auc: 0.716901\tvalid_1's auc: 0.67105\n",
      "[60]\tvalid_0's auc: 0.723109\tvalid_1's auc: 0.674048\n",
      "[70]\tvalid_0's auc: 0.729458\tvalid_1's auc: 0.675608\n",
      "[80]\tvalid_0's auc: 0.735613\tvalid_1's auc: 0.676925\n",
      "[90]\tvalid_0's auc: 0.740724\tvalid_1's auc: 0.677995\n",
      "[100]\tvalid_0's auc: 0.745157\tvalid_1's auc: 0.678273\n",
      "Did not meet early stopping. Best iteration is:\n",
      "[100]\tvalid_0's auc: 0.745157\tvalid_1's auc: 0.678273\n",
      "Fold  2 AUC : 0.678273\n",
      "Training until validation scores don't improve for 150 rounds.\n",
      "[10]\tvalid_0's auc: 0.666572\tvalid_1's auc: 0.651871\n",
      "[20]\tvalid_0's auc: 0.688929\tvalid_1's auc: 0.663474\n",
      "[30]\tvalid_0's auc: 0.700465\tvalid_1's auc: 0.667481\n",
      "[40]\tvalid_0's auc: 0.709821\tvalid_1's auc: 0.670855\n",
      "[50]\tvalid_0's auc: 0.717247\tvalid_1's auc: 0.673833\n",
      "[60]\tvalid_0's auc: 0.723678\tvalid_1's auc: 0.67575\n",
      "[70]\tvalid_0's auc: 0.730465\tvalid_1's auc: 0.677346\n",
      "[80]\tvalid_0's auc: 0.736587\tvalid_1's auc: 0.679339\n",
      "[90]\tvalid_0's auc: 0.741882\tvalid_1's auc: 0.680408\n",
      "[100]\tvalid_0's auc: 0.747147\tvalid_1's auc: 0.681554\n",
      "Did not meet early stopping. Best iteration is:\n",
      "[100]\tvalid_0's auc: 0.747147\tvalid_1's auc: 0.681554\n",
      "Fold  3 AUC : 0.681554\n",
      "Training until validation scores don't improve for 150 rounds.\n",
      "[10]\tvalid_0's auc: 0.674691\tvalid_1's auc: 0.652263\n",
      "[20]\tvalid_0's auc: 0.688787\tvalid_1's auc: 0.662252\n",
      "[30]\tvalid_0's auc: 0.699636\tvalid_1's auc: 0.667959\n",
      "[40]\tvalid_0's auc: 0.707907\tvalid_1's auc: 0.670316\n",
      "[50]\tvalid_0's auc: 0.714816\tvalid_1's auc: 0.672457\n",
      "[60]\tvalid_0's auc: 0.721312\tvalid_1's auc: 0.674583\n",
      "[70]\tvalid_0's auc: 0.726503\tvalid_1's auc: 0.67671\n",
      "[80]\tvalid_0's auc: 0.732065\tvalid_1's auc: 0.677705\n",
      "[90]\tvalid_0's auc: 0.737182\tvalid_1's auc: 0.679272\n",
      "[100]\tvalid_0's auc: 0.741583\tvalid_1's auc: 0.679541\n",
      "Did not meet early stopping. Best iteration is:\n",
      "[100]\tvalid_0's auc: 0.741583\tvalid_1's auc: 0.679541\n",
      "Fold  4 AUC : 0.679541\n",
      "Training until validation scores don't improve for 150 rounds.\n",
      "[10]\tvalid_0's auc: 0.675309\tvalid_1's auc: 0.647534\n",
      "[20]\tvalid_0's auc: 0.690281\tvalid_1's auc: 0.657703\n",
      "[30]\tvalid_0's auc: 0.701007\tvalid_1's auc: 0.66262\n",
      "[40]\tvalid_0's auc: 0.710405\tvalid_1's auc: 0.66667\n",
      "[50]\tvalid_0's auc: 0.71803\tvalid_1's auc: 0.670908\n",
      "[60]\tvalid_0's auc: 0.725577\tvalid_1's auc: 0.673157\n",
      "[70]\tvalid_0's auc: 0.731597\tvalid_1's auc: 0.674673\n",
      "[80]\tvalid_0's auc: 0.737389\tvalid_1's auc: 0.676095\n",
      "[90]\tvalid_0's auc: 0.742584\tvalid_1's auc: 0.677452\n",
      "[100]\tvalid_0's auc: 0.747419\tvalid_1's auc: 0.678774\n",
      "Did not meet early stopping. Best iteration is:\n",
      "[100]\tvalid_0's auc: 0.747419\tvalid_1's auc: 0.678774\n",
      "Fold  5 AUC : 0.678774\n",
      "\n",
      " Mean AUC:0.6797945265258807 std: 0.0012320261389598974 oof roc-auc:0.6797624341701467\n"
     ]
    }
   ],
   "source": [
    "test_preds = []\n",
    "oof_preds = np.zeros(X_train.shape[0])\n",
    "final_preds = np.zeros(X_test.shape[0])\n",
    "auc_scores = []\n",
    "    \n",
    "for n_fold, (train_idx, valid_idx) in enumerate(folds_idx):\n",
    "    train_x, train_y = X_train.tocsr()[train_idx], y_train['label'].iloc[train_idx]\n",
    "    valid_x, valid_y = X_train.tocsr()[valid_idx], y_train['label'].iloc[valid_idx]\n",
    "    \n",
    "    clf = get_model()\n",
    "    \n",
    "    clf.fit(train_x, train_y, \n",
    "            eval_set=[(train_x, train_y), (valid_x, valid_y)], \n",
    "            eval_metric='auc', verbose=10, early_stopping_rounds=150)\n",
    "    \n",
    "    oof_preds[valid_idx] = clf.predict_proba(valid_x, num_iteration=clf.best_iteration_)[:, 1]\n",
    "    y_pred = clf.predict_proba(X_test, num_iteration=clf.best_iteration_)[:, 1]\n",
    "    test_preds.append(y_pred)\n",
    "    auc_scores.append(roc_auc_score(valid_y, oof_preds[valid_idx]))\n",
    "    \n",
    "    print('Fold %2d AUC : %.6f' % (n_fold + 1, auc_scores[-1]))\n",
    "    \n",
    "print(\"\\n\", f\"Mean AUC:{np.mean(auc_scores)}\", \n",
    "      f\"std: {np.std(auc_scores)}\",\n",
    "      f\"oof roc-auc:{roc_auc_score(y_train['label'], oof_preds)}\")\n"
   ]
  },
  {
   "cell_type": "code",
   "execution_count": 73,
   "metadata": {},
   "outputs": [],
   "source": [
    "final_preds = list(map(lambda x: np.mean(x), zip(*test_preds)))"
   ]
  },
  {
   "cell_type": "code",
   "execution_count": 74,
   "metadata": {},
   "outputs": [],
   "source": [
    "cuids_test = pd.read_csv('../mlboot_dataset/mlboot_test.tsv.gz', delimiter='\\t', compression='gzip', index_col='cuid')"
   ]
  },
  {
   "cell_type": "code",
   "execution_count": 75,
   "metadata": {},
   "outputs": [],
   "source": [
    "sub = pd.read_csv('../sparse/test_cuid.csv', names=['cuid'], index_col='cuid')"
   ]
  },
  {
   "cell_type": "code",
   "execution_count": 76,
   "metadata": {},
   "outputs": [],
   "source": [
    "sub['pred'] = final_preds\n",
    "sub = sub.reindex(cuids_test.index)"
   ]
  },
  {
   "cell_type": "code",
   "execution_count": 78,
   "metadata": {},
   "outputs": [],
   "source": [
    "sub['pred'].to_csv('../output/lgbm_oof_predict.csv', index=False)"
   ]
  },
  {
   "cell_type": "markdown",
   "metadata": {},
   "source": [
    "### На лидерборде получили:\n",
    "```\n",
    "П: 0.7391013\n",
    "Ф: 0.7384176\n",
    "```"
   ]
  },
  {
   "cell_type": "code",
   "execution_count": null,
   "metadata": {},
   "outputs": [],
   "source": []
  }
 ],
 "metadata": {
  "kernelspec": {
   "display_name": "Python 3",
   "language": "python",
   "name": "python3"
  },
  "language_info": {
   "codemirror_mode": {
    "name": "ipython",
    "version": 3
   },
   "file_extension": ".py",
   "mimetype": "text/x-python",
   "name": "python",
   "nbconvert_exporter": "python",
   "pygments_lexer": "ipython3",
   "version": "3.6.5"
  }
 },
 "nbformat": 4,
 "nbformat_minor": 2
}
