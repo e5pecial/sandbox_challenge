{
 "cells": [
  {
   "cell_type": "code",
   "execution_count": 2,
   "metadata": {},
   "outputs": [],
   "source": [
    "import pandas as pd\n",
    "import numpy as np\n",
    "\n",
    "from scipy import sparse\n",
    "from sklearn.metrics import roc_auc_score\n",
    "from sklearn.model_selection import cross_val_score, StratifiedKFold\n",
    "from sklearn.preprocessing import LabelEncoder\n",
    "\n",
    "import lightgbm as lgb"
   ]
  },
  {
   "cell_type": "code",
   "execution_count": 3,
   "metadata": {},
   "outputs": [],
   "source": [
    "import warnings\n",
    "\n",
    "warnings.filterwarnings('ignore')"
   ]
  },
  {
   "cell_type": "code",
   "execution_count": 1,
   "metadata": {},
   "outputs": [],
   "source": [
    "import joblib"
   ]
  },
  {
   "cell_type": "code",
   "execution_count": 4,
   "metadata": {},
   "outputs": [],
   "source": [
    "X_train = sparse.load_npz('../sparse/train_matrix.npz')\n",
    "y_train = pd.read_csv('../sparse/train_labels.csv', names=['label'])\n",
    "\n",
    "X_test = sparse.load_npz('../sparse/test_matrix.npz')"
   ]
  },
  {
   "cell_type": "markdown",
   "metadata": {},
   "source": [
    "### Вперед, тяжелая артилерия"
   ]
  },
  {
   "cell_type": "markdown",
   "metadata": {},
   "source": [
    "Обучим на 5 стратифицированных фолдах LGBMClassifier, на лидерборд зашлем усредненное предсказание по пяти фолдам, а также оценим OOF-предсказания\n",
    "\n",
    "\n",
    "UPD: В итоге обучал на 10 фолдах, это дало бОльшее качество для усредненной модели"
   ]
  },
  {
   "cell_type": "code",
   "execution_count": 19,
   "metadata": {},
   "outputs": [
    {
     "data": {
      "text/plain": [
       "['folds.pkl']"
      ]
     },
     "execution_count": 19,
     "metadata": {},
     "output_type": "execute_result"
    }
   ],
   "source": [
    "try:\n",
    "    folds_idx = joblib.load('folds.pkl')\n",
    "except:\n",
    "    folds = StratifiedKFold(n_splits=5, shuffle=True, random_state=42)\n",
    "    folds_idx = [\n",
    "        (train_idx, val_idx) \n",
    "        for train_idx, val_idx in folds.split(X_train, y=y_train['label'])\n",
    "    ]\n",
    "\n",
    "    joblib.dump(folds_idx, 'folds.pkl')"
   ]
  },
  {
   "cell_type": "code",
   "execution_count": 8,
   "metadata": {},
   "outputs": [],
   "source": [
    "params = {'subsample_freq': 2,\n",
    "          'subsample_for_bin': 100, \n",
    "          'subsample': 0.7, \n",
    "          'scale_pos_weight': 1, \n",
    "          'reg_lambda': 0.2, \n",
    "          'reg_alpha': 7, \n",
    "          'objective': 'binary', \n",
    "          'num_leaves': 50, \n",
    "          'min_split_gain': 2.0, \n",
    "          'min_child_weight': 3,\n",
    "          'min_child_samples': 100, \n",
    "          'metric': 'auc', \n",
    "          'max_depth': 20, \n",
    "          'max_bin': 100, \n",
    "          'learning_rate': 0.07, \n",
    "          'random_state': 44,\n",
    "          'colsample_bytree': 0.7}"
   ]
  },
  {
   "cell_type": "code",
   "execution_count": 24,
   "metadata": {
    "scrolled": true
   },
   "outputs": [
    {
     "name": "stdout",
     "output_type": "stream",
     "text": [
      "Training until validation scores don't improve for 150 rounds.\n",
      "[10]\ttrain's auc: 0.672681\tvalid's auc: 0.650973\n",
      "[20]\ttrain's auc: 0.689228\tvalid's auc: 0.660458\n",
      "[30]\ttrain's auc: 0.701825\tvalid's auc: 0.665654\n",
      "[40]\ttrain's auc: 0.71094\tvalid's auc: 0.669977\n",
      "[50]\ttrain's auc: 0.718763\tvalid's auc: 0.673379\n",
      "[60]\ttrain's auc: 0.726207\tvalid's auc: 0.676089\n",
      "[70]\ttrain's auc: 0.732621\tvalid's auc: 0.677882\n",
      "[80]\ttrain's auc: 0.738363\tvalid's auc: 0.678979\n",
      "[90]\ttrain's auc: 0.744435\tvalid's auc: 0.679686\n",
      "[100]\ttrain's auc: 0.749665\tvalid's auc: 0.68083\n",
      "[110]\ttrain's auc: 0.75505\tvalid's auc: 0.681007\n",
      "[120]\ttrain's auc: 0.759438\tvalid's auc: 0.681167\n",
      "[130]\ttrain's auc: 0.763765\tvalid's auc: 0.681458\n",
      "[140]\ttrain's auc: 0.76809\tvalid's auc: 0.681773\n",
      "[150]\ttrain's auc: 0.77196\tvalid's auc: 0.681511\n",
      "[160]\ttrain's auc: 0.775686\tvalid's auc: 0.681235\n",
      "[170]\ttrain's auc: 0.779461\tvalid's auc: 0.68134\n",
      "[180]\ttrain's auc: 0.783093\tvalid's auc: 0.681158\n",
      "Did not meet early stopping. Best iteration is:\n",
      "[180]\ttrain's auc: 0.783093\tvalid's auc: 0.681158\n",
      "Fold  1 AUC : 0.681158\n",
      "Training until validation scores don't improve for 150 rounds.\n",
      "[10]\ttrain's auc: 0.676102\tvalid's auc: 0.648564\n",
      "[20]\ttrain's auc: 0.689588\tvalid's auc: 0.657616\n",
      "[30]\ttrain's auc: 0.701459\tvalid's auc: 0.66384\n",
      "[40]\ttrain's auc: 0.710366\tvalid's auc: 0.667733\n",
      "[50]\ttrain's auc: 0.718279\tvalid's auc: 0.67105\n",
      "[60]\ttrain's auc: 0.72481\tvalid's auc: 0.674048\n",
      "[70]\ttrain's auc: 0.731735\tvalid's auc: 0.675608\n",
      "[80]\ttrain's auc: 0.738219\tvalid's auc: 0.676925\n",
      "[90]\ttrain's auc: 0.743758\tvalid's auc: 0.677995\n",
      "[100]\ttrain's auc: 0.748448\tvalid's auc: 0.678273\n",
      "[110]\ttrain's auc: 0.753284\tvalid's auc: 0.678546\n",
      "[120]\ttrain's auc: 0.758135\tvalid's auc: 0.679142\n",
      "[130]\ttrain's auc: 0.763007\tvalid's auc: 0.679695\n",
      "[140]\ttrain's auc: 0.76747\tvalid's auc: 0.680161\n",
      "[150]\ttrain's auc: 0.771792\tvalid's auc: 0.679935\n",
      "[160]\ttrain's auc: 0.775806\tvalid's auc: 0.680199\n",
      "[170]\ttrain's auc: 0.779558\tvalid's auc: 0.680471\n",
      "[180]\ttrain's auc: 0.782618\tvalid's auc: 0.680548\n",
      "Did not meet early stopping. Best iteration is:\n",
      "[180]\ttrain's auc: 0.782618\tvalid's auc: 0.680548\n",
      "Fold  2 AUC : 0.680548\n",
      "Training until validation scores don't improve for 150 rounds.\n",
      "[10]\ttrain's auc: 0.666547\tvalid's auc: 0.651871\n",
      "[20]\ttrain's auc: 0.689351\tvalid's auc: 0.663474\n",
      "[30]\ttrain's auc: 0.701139\tvalid's auc: 0.667481\n",
      "[40]\ttrain's auc: 0.710827\tvalid's auc: 0.670855\n",
      "[50]\ttrain's auc: 0.718431\tvalid's auc: 0.673833\n",
      "[60]\ttrain's auc: 0.725233\tvalid's auc: 0.67575\n",
      "[70]\ttrain's auc: 0.732271\tvalid's auc: 0.677346\n",
      "[80]\ttrain's auc: 0.738718\tvalid's auc: 0.679339\n",
      "[90]\ttrain's auc: 0.744293\tvalid's auc: 0.680408\n",
      "[100]\ttrain's auc: 0.749699\tvalid's auc: 0.681554\n",
      "[110]\ttrain's auc: 0.754837\tvalid's auc: 0.682298\n",
      "[120]\ttrain's auc: 0.759438\tvalid's auc: 0.682572\n",
      "[130]\ttrain's auc: 0.764163\tvalid's auc: 0.682938\n",
      "[140]\ttrain's auc: 0.768263\tvalid's auc: 0.682881\n",
      "[150]\ttrain's auc: 0.772238\tvalid's auc: 0.68301\n",
      "[160]\ttrain's auc: 0.776122\tvalid's auc: 0.682739\n",
      "[170]\ttrain's auc: 0.780078\tvalid's auc: 0.683112\n",
      "[180]\ttrain's auc: 0.783506\tvalid's auc: 0.682862\n",
      "Did not meet early stopping. Best iteration is:\n",
      "[180]\ttrain's auc: 0.783506\tvalid's auc: 0.682862\n",
      "Fold  3 AUC : 0.682862\n",
      "Training until validation scores don't improve for 150 rounds.\n",
      "[10]\ttrain's auc: 0.674705\tvalid's auc: 0.652263\n",
      "[20]\ttrain's auc: 0.689239\tvalid's auc: 0.662252\n",
      "[30]\ttrain's auc: 0.700517\tvalid's auc: 0.667959\n",
      "[40]\ttrain's auc: 0.709261\tvalid's auc: 0.670316\n",
      "[50]\ttrain's auc: 0.716807\tvalid's auc: 0.672457\n",
      "[60]\ttrain's auc: 0.72382\tvalid's auc: 0.674583\n",
      "[70]\ttrain's auc: 0.729568\tvalid's auc: 0.67671\n",
      "[80]\ttrain's auc: 0.735549\tvalid's auc: 0.677705\n",
      "[90]\ttrain's auc: 0.741049\tvalid's auc: 0.679272\n",
      "[100]\ttrain's auc: 0.746074\tvalid's auc: 0.679541\n",
      "[110]\ttrain's auc: 0.750831\tvalid's auc: 0.679997\n",
      "[120]\ttrain's auc: 0.755218\tvalid's auc: 0.68055\n",
      "[130]\ttrain's auc: 0.759379\tvalid's auc: 0.68067\n",
      "[140]\ttrain's auc: 0.763667\tvalid's auc: 0.680991\n",
      "[150]\ttrain's auc: 0.767223\tvalid's auc: 0.681387\n",
      "[160]\ttrain's auc: 0.770675\tvalid's auc: 0.681574\n",
      "[170]\ttrain's auc: 0.774299\tvalid's auc: 0.681595\n",
      "[180]\ttrain's auc: 0.7779\tvalid's auc: 0.681752\n",
      "Did not meet early stopping. Best iteration is:\n",
      "[180]\ttrain's auc: 0.7779\tvalid's auc: 0.681752\n",
      "Fold  4 AUC : 0.681752\n",
      "Training until validation scores don't improve for 150 rounds.\n",
      "[10]\ttrain's auc: 0.675172\tvalid's auc: 0.647534\n",
      "[20]\ttrain's auc: 0.69032\tvalid's auc: 0.657703\n",
      "[30]\ttrain's auc: 0.701136\tvalid's auc: 0.66262\n",
      "[40]\ttrain's auc: 0.71086\tvalid's auc: 0.66667\n",
      "[50]\ttrain's auc: 0.718617\tvalid's auc: 0.670908\n",
      "[60]\ttrain's auc: 0.726446\tvalid's auc: 0.673157\n",
      "[70]\ttrain's auc: 0.732743\tvalid's auc: 0.674673\n",
      "[80]\ttrain's auc: 0.738672\tvalid's auc: 0.676095\n",
      "[90]\ttrain's auc: 0.744032\tvalid's auc: 0.677452\n",
      "[100]\ttrain's auc: 0.74919\tvalid's auc: 0.678774\n",
      "[110]\ttrain's auc: 0.753974\tvalid's auc: 0.679438\n",
      "[120]\ttrain's auc: 0.758397\tvalid's auc: 0.679648\n",
      "[130]\ttrain's auc: 0.762679\tvalid's auc: 0.680235\n",
      "[140]\ttrain's auc: 0.767108\tvalid's auc: 0.680802\n",
      "[150]\ttrain's auc: 0.77111\tvalid's auc: 0.680849\n",
      "[160]\ttrain's auc: 0.774839\tvalid's auc: 0.681074\n",
      "[170]\ttrain's auc: 0.778556\tvalid's auc: 0.681665\n",
      "[180]\ttrain's auc: 0.782353\tvalid's auc: 0.681817\n",
      "Did not meet early stopping. Best iteration is:\n",
      "[180]\ttrain's auc: 0.782353\tvalid's auc: 0.681817\n",
      "Fold  5 AUC : 0.681817\n",
      "\n",
      " Mean AUC:0.6816273673736262 std: 0.0007694039920419051 oof roc-auc:0.681599112387222\n"
     ]
    }
   ],
   "source": [
    "test_preds = []\n",
    "oof_preds = np.zeros(X_train.shape[0])\n",
    "final_preds = np.zeros(X_test.shape[0])\n",
    "auc_scores = []\n",
    "    \n",
    "for n_fold, (train_idx, valid_idx) in enumerate(folds_idx):\n",
    "    train_x, train_y = X_train.tocsr()[train_idx], y_train['label'].iloc[train_idx]\n",
    "    valid_x, valid_y = X_train.tocsr()[valid_idx], y_train['label'].iloc[valid_idx]\n",
    "    \n",
    "    num_boost_round=180\n",
    "    early_stopping_rounds=150\n",
    "    \n",
    "    d_train = lgb.Dataset(train_x, label=train_y)\n",
    "    d_valid = lgb.Dataset(valid_x, label=valid_y)\n",
    "    clf = lgb.train(params,\n",
    "                    d_train,\n",
    "                    valid_sets=[d_train, d_valid], \n",
    "                    valid_names=['train','valid'], \n",
    "                    num_boost_round=num_boost_round,\n",
    "                    early_stopping_rounds=early_stopping_rounds,\n",
    "                    verbose_eval=10,\n",
    "                   )\n",
    "    \n",
    "    oof_preds[valid_idx] = clf.predict(valid_x, num_iteration=clf.best_iteration)\n",
    "    y_pred = clf.predict(X_test, num_iteration=clf.best_iteration)\n",
    "    test_preds.append(y_pred)\n",
    "    auc_scores.append(roc_auc_score(valid_y, oof_preds[valid_idx]))\n",
    "    \n",
    "    print('Fold %2d AUC : %.6f' % (n_fold + 1, auc_scores[-1]))\n",
    "    \n",
    "print(\"\\n\", f\"Mean AUC:{np.mean(auc_scores)}\", \n",
    "      f\"std: {np.std(auc_scores)}\",\n",
    "      f\"oof roc-auc:{roc_auc_score(y_train['label'], oof_preds)}\")\n"
   ]
  },
  {
   "cell_type": "code",
   "execution_count": 25,
   "metadata": {},
   "outputs": [],
   "source": [
    "oof_roc_auc = roc_auc_score(y_train['label'], oof_preds)"
   ]
  },
  {
   "cell_type": "code",
   "execution_count": 26,
   "metadata": {},
   "outputs": [],
   "source": [
    "final_preds = list(map(lambda x: np.mean(x), zip(*test_preds)))"
   ]
  },
  {
   "cell_type": "code",
   "execution_count": 27,
   "metadata": {},
   "outputs": [],
   "source": [
    "cuids_test = pd.read_csv('../mlboot_dataset/mlboot_test.tsv.gz', delimiter='\\t', compression='gzip', index_col='cuid')"
   ]
  },
  {
   "cell_type": "code",
   "execution_count": 28,
   "metadata": {},
   "outputs": [],
   "source": [
    "sub = pd.read_csv('../sparse/test_cuid.csv', names=['cuid'], index_col='cuid')"
   ]
  },
  {
   "cell_type": "code",
   "execution_count": 29,
   "metadata": {},
   "outputs": [],
   "source": [
    "sub['pred'] = final_preds\n",
    "sub = sub.reindex(cuids_test.index)"
   ]
  },
  {
   "cell_type": "code",
   "execution_count": 30,
   "metadata": {},
   "outputs": [],
   "source": [
    "sub['pred'].to_csv(f'../output/lgbm_oof_predict_{oof_roc_auc}.csv', index=False)"
   ]
  },
  {
   "cell_type": "markdown",
   "metadata": {},
   "source": [
    "### На лидерборде получили:\n",
    "```\n",
    "П: 0.7403242\n",
    "Ф: 0.7399504\n",
    "```"
   ]
  },
  {
   "cell_type": "markdown",
   "metadata": {},
   "source": [
    "Забыл, что по дефолту 100 итераций. На 100 итерациях было:\n",
    "\n",
    "`Mean AUC:0.6797945265258807 std: 0.0012320261389598974 oof roc-auc:0.6797624341701467`\n"
   ]
  },
  {
   "cell_type": "markdown",
   "metadata": {},
   "source": [
    "На 10 фолдах качество вышло:\n",
    "    \n",
    "` Mean AUC:0.6817596224649585 std: 0.004425747820454361 oof roc-auc:0.6817420676253266 `"
   ]
  },
  {
   "cell_type": "code",
   "execution_count": null,
   "metadata": {},
   "outputs": [],
   "source": []
  }
 ],
 "metadata": {
  "kernelspec": {
   "display_name": "Python 3",
   "language": "python",
   "name": "python3"
  },
  "language_info": {
   "codemirror_mode": {
    "name": "ipython",
    "version": 3
   },
   "file_extension": ".py",
   "mimetype": "text/x-python",
   "name": "python",
   "nbconvert_exporter": "python",
   "pygments_lexer": "ipython3",
   "version": "3.6.5"
  }
 },
 "nbformat": 4,
 "nbformat_minor": 2
}
