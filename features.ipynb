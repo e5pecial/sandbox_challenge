{
 "cells": [
  {
   "cell_type": "code",
   "execution_count": 173,
   "metadata": {},
   "outputs": [],
   "source": [
    "from sklearn.pipeline import FeatureUnion"
   ]
  },
  {
   "cell_type": "code",
   "execution_count": 181,
   "metadata": {},
   "outputs": [],
   "source": [
    "from scipy import sparse"
   ]
  },
  {
   "cell_type": "code",
   "execution_count": 2,
   "metadata": {},
   "outputs": [],
   "source": [
    "import pandas as pd\n",
    "import numpy as np\n",
    "import joblib"
   ]
  },
  {
   "cell_type": "code",
   "execution_count": 3,
   "metadata": {},
   "outputs": [],
   "source": [
    "from sklearn.linear_model import SGDClassifier, LogisticRegression\n",
    "from scipy import sparse\n",
    "from sklearn.metrics import roc_auc_score, classification_report\n",
    "from sklearn.model_selection import cross_val_score, StratifiedKFold"
   ]
  },
  {
   "cell_type": "code",
   "execution_count": 145,
   "metadata": {},
   "outputs": [],
   "source": [
    "import lightgbm as lgb"
   ]
  },
  {
   "cell_type": "code",
   "execution_count": 188,
   "metadata": {},
   "outputs": [],
   "source": [
    "X_train = sparse.load_npz('../sparse/train_matrix.npz')\n",
    "y_train = pd.read_csv('../sparse/train_labels.csv', names=['label'])"
   ]
  },
  {
   "cell_type": "code",
   "execution_count": 184,
   "metadata": {},
   "outputs": [],
   "source": [
    "X_test = sparse.load_npz('../sparse/test_matrix.npz')"
   ]
  },
  {
   "cell_type": "code",
   "execution_count": 10,
   "metadata": {},
   "outputs": [],
   "source": [
    "folds_idx = joblib.load('folds.pkl')\n",
    "\n",
    "train_df = pd.read_csv('../sparse/train_counter.csv', names=['counter'])\n",
    "\n",
    "train_df_cat = pd.read_csv('../sparse/train_cat.csv', names=['catergory'])\n",
    "\n",
    "train_df_diff = pd.read_csv('../sparse/train_day.csv', names=['day_diff'])\n",
    "\n",
    "df = pd.read_csv('../mlboot_dataset/mlboot_data.tsv.gz',\n",
    "                 delimiter='\\t', \n",
    "                 compression='gzip', \n",
    "                 header=None,\n",
    "                 names=['cuid', 'cat_feature', 'counter1', 'counter2', 'counter3', 'dt_diff'])"
   ]
  },
  {
   "cell_type": "markdown",
   "metadata": {},
   "source": [
    "## Запилим еще числовые фичи и наверное отдельную модель попробуем под это дело посчитать:\n",
    "\n",
    " * Самое частую категорию\n",
    " * минмакс,среднюю разницу между каждым значением day_diff относительного одного cuid\n",
    " * кол-во токенов\n",
    " * кол-во токенов суммарное, среднее по дням"
   ]
  },
  {
   "cell_type": "code",
   "execution_count": 101,
   "metadata": {},
   "outputs": [],
   "source": [
    "features_df = pd.DataFrame()"
   ]
  },
  {
   "cell_type": "code",
   "execution_count": 112,
   "metadata": {},
   "outputs": [],
   "source": [
    "train_cuid = pd.read_csv('../sparse/train_cuid.csv', names=['cuid'])"
   ]
  },
  {
   "cell_type": "code",
   "execution_count": 114,
   "metadata": {},
   "outputs": [],
   "source": [
    "mean_cuid_day_count = df.groupby(['cuid', 'dt_diff'], sort=False).count().groupby(['cuid'], sort=False).mean()"
   ]
  },
  {
   "cell_type": "code",
   "execution_count": 132,
   "metadata": {},
   "outputs": [],
   "source": [
    "mean_cuid_day_count = mean_cuid_day_count.reset_index()"
   ]
  },
  {
   "cell_type": "code",
   "execution_count": 65,
   "metadata": {},
   "outputs": [],
   "source": [
    "def minmax_days(numbers: str) -> int:\n",
    "    series = [int(x) for x in numbers.split(' ')]\n",
    "    return max(series) - min(series)\n",
    "\n",
    "from typing import Tuple\n",
    "\n",
    "def min_between(numbers: str) -> int:\n",
    "    series = [int(x) for x in numbers.split(' ')]\n",
    "    diffs = np.diff(series)\n",
    "    try:\n",
    "        return min(diffs)\n",
    "    except:\n",
    "        return 0\n",
    "\n",
    "def max_between(numbers: str) -> int:\n",
    "    series = [int(x) for x in numbers.split(' ')]\n",
    "    diffs = np.diff(series)\n",
    "    try:\n",
    "        return max(diffs)\n",
    "    except:\n",
    "        return 0\n",
    "    \n",
    "def mean_between(numbers: str) -> int:\n",
    "    series = [int(x) for x in numbers.split(' ')]\n",
    "    diffs = np.diff(series)\n",
    "    mean_diff = np.mean(diffs)\n",
    "    \n",
    "    if np.isnan(mean_diff):\n",
    "        return 0\n",
    "    return mean_diff\n"
   ]
  },
  {
   "cell_type": "code",
   "execution_count": 133,
   "metadata": {},
   "outputs": [],
   "source": [
    "features_df['mean_cuid_day_count'] = mean_cuid_day_count['counter1']"
   ]
  },
  {
   "cell_type": "code",
   "execution_count": 71,
   "metadata": {},
   "outputs": [],
   "source": [
    "train_df_diff['minmax_days'] = train_df_diff.day_diff.apply(lambda x: minmax_days(x))"
   ]
  },
  {
   "cell_type": "code",
   "execution_count": 28,
   "metadata": {},
   "outputs": [],
   "source": [
    "train_df_cat['mode_category'] = train_df_cat.catergory.apply(lambda x: max(set(x.split(' ')), key=x.split(' ').count))"
   ]
  },
  {
   "cell_type": "code",
   "execution_count": 66,
   "metadata": {},
   "outputs": [
    {
     "name": "stderr",
     "output_type": "stream",
     "text": [
      "/home/chislov/anaconda3/lib/python3.6/site-packages/numpy/core/fromnumeric.py:2957: RuntimeWarning: Mean of empty slice.\n",
      "  out=out, **kwargs)\n"
     ]
    }
   ],
   "source": [
    "train_df_diff['min_day_diff'] = train_df_diff.day_diff.apply(lambda x: min_between(x))\n",
    "train_df_diff['max_day_diff'] = train_df_diff.day_diff.apply(lambda x: max_between(x))\n",
    "train_df_diff['mean_day_diff'] = train_df_diff.day_diff.apply(lambda x: mean_between(x))\n"
   ]
  },
  {
   "cell_type": "code",
   "execution_count": 102,
   "metadata": {},
   "outputs": [],
   "source": [
    "features_df['minmax_days'] = train_df_diff['minmax_days']"
   ]
  },
  {
   "cell_type": "code",
   "execution_count": null,
   "metadata": {},
   "outputs": [],
   "source": [
    "features_df['min_day_diff'] = train_df_diff['min_day_diff']\n",
    "features_df['max_day_diff'] = train_df_diff['max_day_diff']\n",
    "features_df['mean_day_diff'] = train_df_diff['mean_day_diff']\n",
    "features_df['mode_category'] = train_df_cat['mode_category']"
   ]
  },
  {
   "cell_type": "code",
   "execution_count": 167,
   "metadata": {},
   "outputs": [
    {
     "data": {
      "text/html": [
       "<div>\n",
       "<style scoped>\n",
       "    .dataframe tbody tr th:only-of-type {\n",
       "        vertical-align: middle;\n",
       "    }\n",
       "\n",
       "    .dataframe tbody tr th {\n",
       "        vertical-align: top;\n",
       "    }\n",
       "\n",
       "    .dataframe thead th {\n",
       "        text-align: right;\n",
       "    }\n",
       "</style>\n",
       "<table border=\"1\" class=\"dataframe\">\n",
       "  <thead>\n",
       "    <tr style=\"text-align: right;\">\n",
       "      <th></th>\n",
       "      <th>minmax_days</th>\n",
       "      <th>min_day_diff</th>\n",
       "      <th>max_day_diff</th>\n",
       "      <th>mean_day_diff</th>\n",
       "      <th>mode_category</th>\n",
       "    </tr>\n",
       "  </thead>\n",
       "  <tbody>\n",
       "    <tr>\n",
       "      <th>0</th>\n",
       "      <td>16</td>\n",
       "      <td>1</td>\n",
       "      <td>5</td>\n",
       "      <td>2.666667</td>\n",
       "      <td>5</td>\n",
       "    </tr>\n",
       "    <tr>\n",
       "      <th>1</th>\n",
       "      <td>1</td>\n",
       "      <td>1</td>\n",
       "      <td>1</td>\n",
       "      <td>1.000000</td>\n",
       "      <td>5</td>\n",
       "    </tr>\n",
       "    <tr>\n",
       "      <th>2</th>\n",
       "      <td>0</td>\n",
       "      <td>0</td>\n",
       "      <td>0</td>\n",
       "      <td>0.000000</td>\n",
       "      <td>5</td>\n",
       "    </tr>\n",
       "    <tr>\n",
       "      <th>3</th>\n",
       "      <td>50</td>\n",
       "      <td>0</td>\n",
       "      <td>41</td>\n",
       "      <td>6.250000</td>\n",
       "      <td>1</td>\n",
       "    </tr>\n",
       "    <tr>\n",
       "      <th>4</th>\n",
       "      <td>57</td>\n",
       "      <td>1</td>\n",
       "      <td>10</td>\n",
       "      <td>4.750000</td>\n",
       "      <td>5</td>\n",
       "    </tr>\n",
       "  </tbody>\n",
       "</table>\n",
       "</div>"
      ],
      "text/plain": [
       "   minmax_days  min_day_diff  max_day_diff  mean_day_diff  mode_category\n",
       "0           16             1             5       2.666667              5\n",
       "1            1             1             1       1.000000              5\n",
       "2            0             0             0       0.000000              5\n",
       "3           50             0            41       6.250000              1\n",
       "4           57             1            10       4.750000              5"
      ]
     },
     "execution_count": 167,
     "metadata": {},
     "output_type": "execute_result"
    }
   ],
   "source": [
    "features_df.head()"
   ]
  },
  {
   "cell_type": "code",
   "execution_count": 135,
   "metadata": {},
   "outputs": [],
   "source": [
    "features_df.to_csv('feat.csv', index=False)"
   ]
  },
  {
   "cell_type": "markdown",
   "metadata": {},
   "source": [
    "### Test features"
   ]
  },
  {
   "cell_type": "code",
   "execution_count": 156,
   "metadata": {},
   "outputs": [],
   "source": [
    "test_df_diff = pd.read_csv('../sparse/test_counter.csv', names=['day_diff'])\n",
    "\n",
    "test_df_counter = pd.read_csv('../sparse/test_cat.csv', names=['counter'])\n",
    "\n",
    "test_df_category = pd.read_csv('../sparse/test_day.csv', names=['category'])"
   ]
  },
  {
   "cell_type": "code",
   "execution_count": 155,
   "metadata": {},
   "outputs": [
    {
     "data": {
      "text/html": [
       "<div>\n",
       "<style scoped>\n",
       "    .dataframe tbody tr th:only-of-type {\n",
       "        vertical-align: middle;\n",
       "    }\n",
       "\n",
       "    .dataframe tbody tr th {\n",
       "        vertical-align: top;\n",
       "    }\n",
       "\n",
       "    .dataframe thead th {\n",
       "        text-align: right;\n",
       "    }\n",
       "</style>\n",
       "<table border=\"1\" class=\"dataframe\">\n",
       "  <thead>\n",
       "    <tr style=\"text-align: right;\">\n",
       "      <th></th>\n",
       "      <th>day_diff</th>\n",
       "    </tr>\n",
       "  </thead>\n",
       "  <tbody>\n",
       "    <tr>\n",
       "      <th>0</th>\n",
       "      <td>2 2 2 2 2 2 2 2 2 2 2 2 2 2 2 2 2 2 2 2 2 2 2 ...</td>\n",
       "    </tr>\n",
       "    <tr>\n",
       "      <th>1</th>\n",
       "      <td>2 2 2 2 2 2 2 2 2 2 2 2 2 2 2 2 2 2 2 2 2 2 2 ...</td>\n",
       "    </tr>\n",
       "    <tr>\n",
       "      <th>2</th>\n",
       "      <td>2 3 2 3 2 3 2 3 2 2 2 3 3 2 3 2 3 3 2 2 3 3 3 ...</td>\n",
       "    </tr>\n",
       "    <tr>\n",
       "      <th>3</th>\n",
       "      <td>3 3 3 3 3 3 3 3 3 3 3 3 3 3 3 3 3 3 3 3 3 3 3 ...</td>\n",
       "    </tr>\n",
       "    <tr>\n",
       "      <th>4</th>\n",
       "      <td>5 3 5 5 5 5 5 3 3 5 5 3 5 3 3 5 3 5 3 5 3 5 5 ...</td>\n",
       "    </tr>\n",
       "  </tbody>\n",
       "</table>\n",
       "</div>"
      ],
      "text/plain": [
       "                                            day_diff\n",
       "0  2 2 2 2 2 2 2 2 2 2 2 2 2 2 2 2 2 2 2 2 2 2 2 ...\n",
       "1  2 2 2 2 2 2 2 2 2 2 2 2 2 2 2 2 2 2 2 2 2 2 2 ...\n",
       "2  2 3 2 3 2 3 2 3 2 2 2 3 3 2 3 2 3 3 2 2 3 3 3 ...\n",
       "3  3 3 3 3 3 3 3 3 3 3 3 3 3 3 3 3 3 3 3 3 3 3 3 ...\n",
       "4  5 3 5 5 5 5 5 3 3 5 5 3 5 3 3 5 3 5 3 5 3 5 5 ..."
      ]
     },
     "execution_count": 155,
     "metadata": {},
     "output_type": "execute_result"
    }
   ],
   "source": [
    "train_df_diff.head()"
   ]
  },
  {
   "cell_type": "code",
   "execution_count": 163,
   "metadata": {},
   "outputs": [],
   "source": [
    "train_df_diff['minmax_days'] = train_df_diff.day_diff.apply(lambda x: minmax_days(x))\n",
    "train_df_category['mode_category'] = train_df_category.category.apply(lambda x: max(set(x.split(' ')), key=x.split(' ').count))\n",
    "train_df_diff['min_day_diff'] = train_df_diff.day_diff.apply(lambda x: min_between(x))\n",
    "train_df_diff['max_day_diff'] = train_df_diff.day_diff.apply(lambda x: max_between(x))\n",
    "train_df_diff['mean_day_diff'] = train_df_diff.day_diff.apply(lambda x: mean_between(x))\n",
    "test_features_df = pd.DataFrame()\n",
    "test_features_df['minmax_days'] = train_df_diff['minmax_days']\n",
    "\n",
    "test_features_df['min_day_diff'] = train_df_diff['min_day_diff']\n",
    "test_features_df['max_day_diff'] = train_df_diff['max_day_diff']\n",
    "test_features_df['mean_day_diff'] = train_df_diff['mean_day_diff']\n",
    "test_features_df['mode_category'] = train_df_category['mode_category']"
   ]
  },
  {
   "cell_type": "code",
   "execution_count": 150,
   "metadata": {},
   "outputs": [],
   "source": [
    "features_df['mode_category'] = features_df['mode_category'].astype('int')"
   ]
  },
  {
   "cell_type": "code",
   "execution_count": 164,
   "metadata": {},
   "outputs": [
    {
     "data": {
      "text/html": [
       "<div>\n",
       "<style scoped>\n",
       "    .dataframe tbody tr th:only-of-type {\n",
       "        vertical-align: middle;\n",
       "    }\n",
       "\n",
       "    .dataframe tbody tr th {\n",
       "        vertical-align: top;\n",
       "    }\n",
       "\n",
       "    .dataframe thead th {\n",
       "        text-align: right;\n",
       "    }\n",
       "</style>\n",
       "<table border=\"1\" class=\"dataframe\">\n",
       "  <thead>\n",
       "    <tr style=\"text-align: right;\">\n",
       "      <th></th>\n",
       "      <th>minmax_days</th>\n",
       "      <th>min_day_diff</th>\n",
       "      <th>max_day_diff</th>\n",
       "      <th>mean_day_diff</th>\n",
       "      <th>mode_category</th>\n",
       "    </tr>\n",
       "  </thead>\n",
       "  <tbody>\n",
       "    <tr>\n",
       "      <th>0</th>\n",
       "      <td>52</td>\n",
       "      <td>1</td>\n",
       "      <td>5</td>\n",
       "      <td>1.333333</td>\n",
       "      <td>2</td>\n",
       "    </tr>\n",
       "    <tr>\n",
       "      <th>1</th>\n",
       "      <td>59</td>\n",
       "      <td>1</td>\n",
       "      <td>3</td>\n",
       "      <td>1.255319</td>\n",
       "      <td>2</td>\n",
       "    </tr>\n",
       "    <tr>\n",
       "      <th>2</th>\n",
       "      <td>45</td>\n",
       "      <td>0</td>\n",
       "      <td>10</td>\n",
       "      <td>1.730769</td>\n",
       "      <td>3</td>\n",
       "    </tr>\n",
       "    <tr>\n",
       "      <th>3</th>\n",
       "      <td>59</td>\n",
       "      <td>1</td>\n",
       "      <td>4</td>\n",
       "      <td>1.180000</td>\n",
       "      <td>3</td>\n",
       "    </tr>\n",
       "    <tr>\n",
       "      <th>4</th>\n",
       "      <td>59</td>\n",
       "      <td>0</td>\n",
       "      <td>2</td>\n",
       "      <td>0.641304</td>\n",
       "      <td>5</td>\n",
       "    </tr>\n",
       "  </tbody>\n",
       "</table>\n",
       "</div>"
      ],
      "text/plain": [
       "   minmax_days  min_day_diff  max_day_diff  mean_day_diff mode_category\n",
       "0           52             1             5       1.333333             2\n",
       "1           59             1             3       1.255319             2\n",
       "2           45             0            10       1.730769             3\n",
       "3           59             1             4       1.180000             3\n",
       "4           59             0             2       0.641304             5"
      ]
     },
     "execution_count": 164,
     "metadata": {},
     "output_type": "execute_result"
    }
   ],
   "source": [
    "test_features_df.head()"
   ]
  },
  {
   "cell_type": "code",
   "execution_count": 165,
   "metadata": {},
   "outputs": [],
   "source": [
    "test_features_df.to_csv('test_feat.csv', index=False)"
   ]
  },
  {
   "cell_type": "markdown",
   "metadata": {},
   "source": [
    "## Соберем все в один  датасет"
   ]
  },
  {
   "cell_type": "code",
   "execution_count": 138,
   "metadata": {},
   "outputs": [],
   "source": [
    "X_train = features_df\n",
    "y_train = pd.read_csv('../sparse/train_labels.csv', names=['label'])\n"
   ]
  },
  {
   "cell_type": "code",
   "execution_count": 171,
   "metadata": {},
   "outputs": [
    {
     "data": {
      "text/html": [
       "<div>\n",
       "<style scoped>\n",
       "    .dataframe tbody tr th:only-of-type {\n",
       "        vertical-align: middle;\n",
       "    }\n",
       "\n",
       "    .dataframe tbody tr th {\n",
       "        vertical-align: top;\n",
       "    }\n",
       "\n",
       "    .dataframe thead th {\n",
       "        text-align: right;\n",
       "    }\n",
       "</style>\n",
       "<table border=\"1\" class=\"dataframe\">\n",
       "  <thead>\n",
       "    <tr style=\"text-align: right;\">\n",
       "      <th></th>\n",
       "      <th>minmax_days</th>\n",
       "      <th>min_day_diff</th>\n",
       "      <th>max_day_diff</th>\n",
       "      <th>mean_day_diff</th>\n",
       "      <th>mode_category</th>\n",
       "    </tr>\n",
       "  </thead>\n",
       "  <tbody>\n",
       "    <tr>\n",
       "      <th>0</th>\n",
       "      <td>16</td>\n",
       "      <td>1</td>\n",
       "      <td>5</td>\n",
       "      <td>2.666667</td>\n",
       "      <td>5</td>\n",
       "    </tr>\n",
       "    <tr>\n",
       "      <th>1</th>\n",
       "      <td>1</td>\n",
       "      <td>1</td>\n",
       "      <td>1</td>\n",
       "      <td>1.000000</td>\n",
       "      <td>5</td>\n",
       "    </tr>\n",
       "    <tr>\n",
       "      <th>2</th>\n",
       "      <td>0</td>\n",
       "      <td>0</td>\n",
       "      <td>0</td>\n",
       "      <td>0.000000</td>\n",
       "      <td>5</td>\n",
       "    </tr>\n",
       "    <tr>\n",
       "      <th>3</th>\n",
       "      <td>50</td>\n",
       "      <td>0</td>\n",
       "      <td>41</td>\n",
       "      <td>6.250000</td>\n",
       "      <td>1</td>\n",
       "    </tr>\n",
       "    <tr>\n",
       "      <th>4</th>\n",
       "      <td>57</td>\n",
       "      <td>1</td>\n",
       "      <td>10</td>\n",
       "      <td>4.750000</td>\n",
       "      <td>5</td>\n",
       "    </tr>\n",
       "  </tbody>\n",
       "</table>\n",
       "</div>"
      ],
      "text/plain": [
       "   minmax_days  min_day_diff  max_day_diff  mean_day_diff  mode_category\n",
       "0           16             1             5       2.666667              5\n",
       "1            1             1             1       1.000000              5\n",
       "2            0             0             0       0.000000              5\n",
       "3           50             0            41       6.250000              1\n",
       "4           57             1            10       4.750000              5"
      ]
     },
     "execution_count": 171,
     "metadata": {},
     "output_type": "execute_result"
    }
   ],
   "source": [
    "features_df.head()"
   ]
  },
  {
   "cell_type": "code",
   "execution_count": 177,
   "metadata": {},
   "outputs": [
    {
     "name": "stderr",
     "output_type": "stream",
     "text": [
      "/home/chislov/anaconda3/lib/python3.6/site-packages/ipykernel_launcher.py:1: FutureWarning: Method .as_matrix will be removed in a future version. Use .values instead.\n",
      "  \"\"\"Entry point for launching an IPython kernel.\n"
     ]
    }
   ],
   "source": [
    "num_matrix = features_df.as_matrix()"
   ]
  },
  {
   "cell_type": "code",
   "execution_count": 189,
   "metadata": {},
   "outputs": [],
   "source": [
    "concatenated = sparse.hstack([X_train, num_matrix])"
   ]
  },
  {
   "cell_type": "code",
   "execution_count": 191,
   "metadata": {},
   "outputs": [],
   "source": [
    "test_features_df['mode_category'] = test_features_df['mode_category'].astype('int')"
   ]
  },
  {
   "cell_type": "code",
   "execution_count": 192,
   "metadata": {},
   "outputs": [
    {
     "name": "stderr",
     "output_type": "stream",
     "text": [
      "/home/chislov/anaconda3/lib/python3.6/site-packages/ipykernel_launcher.py:1: FutureWarning: Method .as_matrix will be removed in a future version. Use .values instead.\n",
      "  \"\"\"Entry point for launching an IPython kernel.\n"
     ]
    }
   ],
   "source": [
    "test_concatenated = sparse.hstack([X_test, test_features_df.as_matrix()])"
   ]
  },
  {
   "cell_type": "code",
   "execution_count": 193,
   "metadata": {},
   "outputs": [],
   "source": [
    "sparse.save_npz('concat_features_train.npz', concatenated)"
   ]
  },
  {
   "cell_type": "code",
   "execution_count": null,
   "metadata": {},
   "outputs": [],
   "source": [
    "sparse.save_npz('concat_features_test.npz', test_concatenated)"
   ]
  },
  {
   "cell_type": "code",
   "execution_count": null,
   "metadata": {},
   "outputs": [],
   "source": []
  }
 ],
 "metadata": {
  "kernelspec": {
   "display_name": "Python 3",
   "language": "python",
   "name": "python3"
  },
  "language_info": {
   "codemirror_mode": {
    "name": "ipython",
    "version": 3
   },
   "file_extension": ".py",
   "mimetype": "text/x-python",
   "name": "python",
   "nbconvert_exporter": "python",
   "pygments_lexer": "ipython3",
   "version": "3.6.5"
  }
 },
 "nbformat": 4,
 "nbformat_minor": 2
}
